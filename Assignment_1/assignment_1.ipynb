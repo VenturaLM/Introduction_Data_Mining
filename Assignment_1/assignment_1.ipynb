{
 "cells": [
  {
   "cell_type": "markdown",
   "metadata": {},
   "source": [
    "### **INTRODUCTION TO DATA MINING**\n",
    "#### **Assigment 1: Data exploration**\n",
    "- **Universidad de Córdoba**\n",
    "- **Escuela Politécnica Superior de Córdoba**\n",
    "- **Computer Science Engineering Degree**\n",
    "- **Mention: Computation**\n",
    "- **Fourth year - First quadrimester**\n",
    "- **Author:** Ventura Lucena Martínez\n",
    "- **Email:** <i72lumav@uco.es>\n",
    "---"
   ]
  },
  {
   "cell_type": "markdown",
   "metadata": {},
   "source": [
    "#### **Data**\n",
    "We are using the dataset [`weather.arff`](https://storm.cis.fordham.edu/~gweiss/data-mining/weka-data/weather.arff):"
   ]
  },
  {
   "cell_type": "code",
   "execution_count": 1,
   "metadata": {},
   "outputs": [
    {
     "name": "stdout",
     "output_type": "stream",
     "text": [
      "    handicapped-infants water-project-cost-sharing  \\\n",
      "0                  b'n'                       b'y'   \n",
      "1                  b'n'                       b'y'   \n",
      "2                  b'?'                       b'y'   \n",
      "3                  b'n'                       b'y'   \n",
      "4                  b'y'                       b'y'   \n",
      "..                  ...                        ...   \n",
      "430                b'n'                       b'n'   \n",
      "431                b'n'                       b'n'   \n",
      "432                b'n'                       b'?'   \n",
      "433                b'n'                       b'n'   \n",
      "434                b'n'                       b'y'   \n",
      "\n",
      "    adoption-of-the-budget-resolution physician-fee-freeze el-salvador-aid  \\\n",
      "0                                b'n'                 b'y'            b'y'   \n",
      "1                                b'n'                 b'y'            b'y'   \n",
      "2                                b'y'                 b'?'            b'y'   \n",
      "3                                b'y'                 b'n'            b'?'   \n",
      "4                                b'y'                 b'n'            b'y'   \n",
      "..                                ...                  ...             ...   \n",
      "430                              b'y'                 b'y'            b'y'   \n",
      "431                              b'y'                 b'n'            b'n'   \n",
      "432                              b'n'                 b'y'            b'y'   \n",
      "433                              b'n'                 b'y'            b'y'   \n",
      "434                              b'n'                 b'y'            b'y'   \n",
      "\n",
      "    religious-groups-in-schools anti-satellite-test-ban  \\\n",
      "0                          b'y'                    b'n'   \n",
      "1                          b'y'                    b'n'   \n",
      "2                          b'y'                    b'n'   \n",
      "3                          b'y'                    b'n'   \n",
      "4                          b'y'                    b'n'   \n",
      "..                          ...                     ...   \n",
      "430                        b'y'                    b'n'   \n",
      "431                        b'n'                    b'y'   \n",
      "432                        b'y'                    b'n'   \n",
      "433                        b'y'                    b'?'   \n",
      "434                        b'y'                    b'n'   \n",
      "\n",
      "    aid-to-nicaraguan-contras mx-missile immigration  \\\n",
      "0                        b'n'       b'n'        b'y'   \n",
      "1                        b'n'       b'n'        b'n'   \n",
      "2                        b'n'       b'n'        b'n'   \n",
      "3                        b'n'       b'n'        b'n'   \n",
      "4                        b'n'       b'n'        b'n'   \n",
      "..                        ...        ...         ...   \n",
      "430                      b'n'       b'y'        b'y'   \n",
      "431                      b'y'       b'y'        b'y'   \n",
      "432                      b'n'       b'n'        b'n'   \n",
      "433                      b'?'       b'?'        b'?'   \n",
      "434                      b'n'       b'n'        b'y'   \n",
      "\n",
      "    synfuels-corporation-cutback education-spending superfund-right-to-sue  \\\n",
      "0                           b'?'               b'y'                   b'y'   \n",
      "1                           b'n'               b'y'                   b'y'   \n",
      "2                           b'y'               b'n'                   b'y'   \n",
      "3                           b'y'               b'n'                   b'y'   \n",
      "4                           b'y'               b'?'                   b'y'   \n",
      "..                           ...                ...                    ...   \n",
      "430                         b'n'               b'y'                   b'y'   \n",
      "431                         b'n'               b'n'                   b'n'   \n",
      "432                         b'y'               b'y'                   b'y'   \n",
      "433                         b'n'               b'y'                   b'y'   \n",
      "434                         b'n'               b'y'                   b'y'   \n",
      "\n",
      "    crime duty-free-exports export-administration-act-south-africa  \\\n",
      "0    b'y'              b'n'                                   b'y'   \n",
      "1    b'y'              b'n'                                   b'?'   \n",
      "2    b'y'              b'n'                                   b'n'   \n",
      "3    b'n'              b'n'                                   b'y'   \n",
      "4    b'y'              b'y'                                   b'y'   \n",
      "..    ...               ...                                    ...   \n",
      "430  b'y'              b'n'                                   b'y'   \n",
      "431  b'n'              b'n'                                   b'y'   \n",
      "432  b'y'              b'n'                                   b'y'   \n",
      "433  b'y'              b'n'                                   b'y'   \n",
      "434  b'y'              b'?'                                   b'n'   \n",
      "\n",
      "             Class  \n",
      "0    b'republican'  \n",
      "1    b'republican'  \n",
      "2      b'democrat'  \n",
      "3      b'democrat'  \n",
      "4      b'democrat'  \n",
      "..             ...  \n",
      "430  b'republican'  \n",
      "431    b'democrat'  \n",
      "432  b'republican'  \n",
      "433  b'republican'  \n",
      "434  b'republican'  \n",
      "\n",
      "[435 rows x 17 columns]\n"
     ]
    }
   ],
   "source": [
    "from scipy.io import arff\n",
    "import pandas as pd\n",
    "\n",
    "# Load '.arff' file.\n",
    "data = arff.loadarff(\"datasets/vote.arff\")\n",
    "df = pd.DataFrame(data[0])\n",
    "\n",
    "print(df)\n"
   ]
  },
  {
   "cell_type": "markdown",
   "metadata": {},
   "source": [
    "Before evaluating the Decision Tree and the K-Nearest Neighbor, categorical data should be encoded and then standardized:"
   ]
  },
  {
   "cell_type": "code",
   "execution_count": 2,
   "metadata": {},
   "outputs": [
    {
     "name": "stdout",
     "output_type": "stream",
     "text": [
      "     handicapped-infants  water-project-cost-sharing  \\\n",
      "0                    1.0                         2.0   \n",
      "1                    1.0                         2.0   \n",
      "2                    0.0                         2.0   \n",
      "3                    1.0                         2.0   \n",
      "4                    2.0                         2.0   \n",
      "..                   ...                         ...   \n",
      "430                  1.0                         1.0   \n",
      "431                  1.0                         1.0   \n",
      "432                  1.0                         0.0   \n",
      "433                  1.0                         1.0   \n",
      "434                  1.0                         2.0   \n",
      "\n",
      "     adoption-of-the-budget-resolution  physician-fee-freeze  el-salvador-aid  \\\n",
      "0                                  1.0                   2.0              2.0   \n",
      "1                                  1.0                   2.0              2.0   \n",
      "2                                  2.0                   0.0              2.0   \n",
      "3                                  2.0                   1.0              0.0   \n",
      "4                                  2.0                   1.0              2.0   \n",
      "..                                 ...                   ...              ...   \n",
      "430                                2.0                   2.0              2.0   \n",
      "431                                2.0                   1.0              1.0   \n",
      "432                                1.0                   2.0              2.0   \n",
      "433                                1.0                   2.0              2.0   \n",
      "434                                1.0                   2.0              2.0   \n",
      "\n",
      "     religious-groups-in-schools  anti-satellite-test-ban  \\\n",
      "0                            2.0                      1.0   \n",
      "1                            2.0                      1.0   \n",
      "2                            2.0                      1.0   \n",
      "3                            2.0                      1.0   \n",
      "4                            2.0                      1.0   \n",
      "..                           ...                      ...   \n",
      "430                          2.0                      1.0   \n",
      "431                          1.0                      2.0   \n",
      "432                          2.0                      1.0   \n",
      "433                          2.0                      0.0   \n",
      "434                          2.0                      1.0   \n",
      "\n",
      "     aid-to-nicaraguan-contras  mx-missile  immigration  \\\n",
      "0                          1.0         1.0          2.0   \n",
      "1                          1.0         1.0          1.0   \n",
      "2                          1.0         1.0          1.0   \n",
      "3                          1.0         1.0          1.0   \n",
      "4                          1.0         1.0          1.0   \n",
      "..                         ...         ...          ...   \n",
      "430                        1.0         2.0          2.0   \n",
      "431                        2.0         2.0          2.0   \n",
      "432                        1.0         1.0          1.0   \n",
      "433                        0.0         0.0          0.0   \n",
      "434                        1.0         1.0          2.0   \n",
      "\n",
      "     synfuels-corporation-cutback  education-spending  superfund-right-to-sue  \\\n",
      "0                             0.0                 2.0                     2.0   \n",
      "1                             1.0                 2.0                     2.0   \n",
      "2                             2.0                 1.0                     2.0   \n",
      "3                             2.0                 1.0                     2.0   \n",
      "4                             2.0                 0.0                     2.0   \n",
      "..                            ...                 ...                     ...   \n",
      "430                           1.0                 2.0                     2.0   \n",
      "431                           1.0                 1.0                     1.0   \n",
      "432                           2.0                 2.0                     2.0   \n",
      "433                           1.0                 2.0                     2.0   \n",
      "434                           1.0                 2.0                     2.0   \n",
      "\n",
      "     crime  duty-free-exports  export-administration-act-south-africa  Class  \n",
      "0      2.0                1.0                                     2.0    1.0  \n",
      "1      2.0                1.0                                     0.0    1.0  \n",
      "2      2.0                1.0                                     1.0    0.0  \n",
      "3      1.0                1.0                                     2.0    0.0  \n",
      "4      2.0                2.0                                     2.0    0.0  \n",
      "..     ...                ...                                     ...    ...  \n",
      "430    2.0                1.0                                     2.0    1.0  \n",
      "431    1.0                1.0                                     2.0    0.0  \n",
      "432    2.0                1.0                                     2.0    1.0  \n",
      "433    2.0                1.0                                     2.0    1.0  \n",
      "434    2.0                0.0                                     1.0    1.0  \n",
      "\n",
      "[435 rows x 17 columns]\n"
     ]
    }
   ],
   "source": [
    "from sklearn import preprocessing\n",
    "\n",
    "# Categorical features to encode:\n",
    "features = df.columns.tolist()\n",
    "\n",
    "enc = preprocessing.OrdinalEncoder()\n",
    "\n",
    "# Swap unencoded columns values for encoded columns values.\n",
    "df[features] = enc.fit_transform(df[features])\n",
    "\n",
    "X_train = df.iloc[:, :-1].values\n",
    "y_train = df.iloc[:, -1].values\n",
    "\n",
    "print(df)\n"
   ]
  },
  {
   "cell_type": "markdown",
   "metadata": {},
   "source": [
    "#### **Evaluation of the Decision Tree**"
   ]
  },
  {
   "cell_type": "code",
   "execution_count": 3,
   "metadata": {},
   "outputs": [
    {
     "name": "stdout",
     "output_type": "stream",
     "text": [
      "Decision Tree:\n",
      "\tTrain score = [0.97241379 0.96551724 0.93793103]\n"
     ]
    },
    {
     "data": {
      "image/png": "[encoded data removed]",
      "text/plain": [
       "<Figure size 432x288 with 1 Axes>"
      ]
     },
     "metadata": {
      "needs_background": "light"
     },
     "output_type": "display_data"
    }
   ],
   "source": [
    "from sklearn import tree\n",
    "from sklearn.model_selection import cross_val_score\n",
    "import matplotlib.pyplot as plt\n",
    "\n",
    "clf = tree.DecisionTreeClassifier()\n",
    "clf.fit(X_train, y_train)\n",
    "\n",
    "# Evaluate training score by cross-validation.\n",
    "print(f'Decision Tree:')\n",
    "print(f'\\tTrain score = {cross_val_score(clf, X_train, y_train, cv=3)}')\n",
    "\n",
    "# Plot the tree.\n",
    "#\tFor better plotting try graphviz: https://scikit-learn.org/stable/modules/tree.html\n",
    "tree.plot_tree(clf)\n",
    "plt.show()\n"
   ]
  },
  {
   "cell_type": "markdown",
   "metadata": {},
   "source": [
    "#### **Evaluation of K-Nearest Neighbor**"
   ]
  },
  {
   "cell_type": "code",
   "execution_count": 4,
   "metadata": {},
   "outputs": [
    {
     "name": "stdout",
     "output_type": "stream",
     "text": [
      "K-Nearest Neighbors:\n",
      "\tTrain score = [0.92413793 0.88965517 0.90344828]\n"
     ]
    }
   ],
   "source": [
    "from sklearn.neighbors import KNeighborsClassifier\n",
    "\n",
    "neigh = KNeighborsClassifier(n_neighbors=3)\n",
    "neigh.fit(X_train, y_train)\n",
    "\n",
    "# Evaluate training score by cross-validation.\n",
    "print(f'K-Nearest Neighbors:')\n",
    "print(f'\\tTrain score = {cross_val_score(neigh, X_train, y_train, cv=3)}')\n"
   ]
  },
  {
   "cell_type": "markdown",
   "metadata": {},
   "source": [
    "#### **PCA**"
   ]
  },
  {
   "cell_type": "code",
   "execution_count": 5,
   "metadata": {},
   "outputs": [
    {
     "name": "stdout",
     "output_type": "stream",
     "text": [
      "Explained variance ratio = [0.32262492 0.14065724]\n"
     ]
    },
    {
     "data": {
      "application/vnd.plotly.v1+json": {
       "config": {
        "plotlyServerURL": "https://plot.ly"
       },
       "data": [
        {
         "hovertemplate": "0=%{x}<br>1=%{y}<br>color=%{marker.color}<extra></extra>",
         "legendgroup": "",
         "marker": {
          "color": [
           1,
           1,
           0,
           0,
           0,
           0,
           0,
           1,
           1,
           0,
           1,
           1,
           0,
           0,
           1,
           1,
           0,
           0,
           1,
           0,
           0,
           0,
           0,
           0,
           0,
           0,
           0,
           0,
           1,
           0,
           1,
           0,
           0,
           1,
           0,
           1,
           1,
           1,
           1,
           0,
           0,
           0,
           0,
           0,
           0,
           0,
           0,
           0,
           0,
           1,
           0,
           1,
           0,
           1,
           0,
           1,
           1,
           1,
           1,
           1,
           0,
           1,
           0,
           0,
           0,
           1,
           1,
           1,
           0,
           0,
           0,
           1,
           0,
           1,
           0,
           0,
           0,
           0,
           0,
           1,
           0,
           0,
           1,
           1,
           1,
           0,
           1,
           1,
           0,
           1,
           0,
           0,
           0,
           0,
           0,
           0,
           0,
           0,
           0,
           1,
           0,
           0,
           0,
           0,
           0,
           0,
           1,
           1,
           0,
           0,
           0,
           1,
           0,
           1,
           0,
           0,
           0,
           1,
           0,
           1,
           1,
           1,
           1,
           1,
           0,
           1,
           1,
           0,
           0,
           0,
           0,
           0,
           1,
           1,
           1,
           1,
           1,
           0,
           0,
           0,
           1,
           1,
           1,
           0,
           0,
           0,
           1,
           0,
           1,
           0,
           1,
           0,
           0,
           0,
           1,
           1,
           1,
           0,
           1,
           0,
           0,
           0,
           0,
           1,
           0,
           0,
           1,
           1,
           0,
           0,
           0,
           1,
           0,
           0,
           0,
           0,
           1,
           0,
           0,
           0,
           0,
           0,
           0,
           0,
           0,
           0,
           0,
           0,
           1,
           0,
           1,
           1,
           0,
           0,
           0,
           1,
           0,
           1,
           0,
           0,
           0,
           0,
           0,
           0,
           1,
           0,
           1,
           1,
           0,
           0,
           0,
           1,
           0,
           0,
           1,
           0,
           0,
           1,
           0,
           0,
           0,
           0,
           0,
           1,
           1,
           1,
           0,
           0,
           1,
           1,
           1,
           1,
           0,
           1,
           0,
           1,
           0,
           0,
           0,
           1,
           1,
           0,
           1,
           0,
           0,
           0,
           0,
           1,
           1,
           0,
           1,
           1,
           0,
           1,
           0,
           0,
           1,
           1,
           0,
           0,
           0,
           0,
           0,
           0,
           0,
           0,
           1,
           1,
           0,
           0,
           0,
           0,
           0,
           1,
           1,
           0,
           1,
           1,
           1,
           1,
           0,
           1,
           1,
           1,
           0,
           0,
           0,
           0,
           0,
           0,
           0,
           0,
           0,
           0,
           0,
           1,
           1,
           0,
           0,
           0,
           1,
           0,
           1,
           1,
           1,
           1,
           1,
           0,
           1,
           0,
           1,
           0,
           0,
           1,
           1,
           1,
           0,
           0,
           0,
           0,
           0,
           0,
           0,
           0,
           1,
           0,
           0,
           1,
           0,
           0,
           1,
           0,
           0,
           0,
           0,
           1,
           0,
           0,
           0,
           1,
           1,
           0,
           0,
           1,
           0,
           1,
           1,
           1,
           0,
           1,
           0,
           1,
           0,
           1,
           0,
           1,
           1,
           1,
           0,
           1,
           0,
           0,
           0,
           1,
           1,
           0,
           0,
           0,
           0,
           1,
           0,
           0,
           0,
           0,
           1,
           0,
           0,
           1,
           1,
           1,
           0,
           0,
           0,
           0,
           0,
           0,
           0,
           0,
           0,
           0,
           0,
           0,
           1,
           1,
           0,
           0,
           0,
           0,
           0,
           1,
           1,
           1,
           1,
           1,
           1,
           1,
           0,
           0,
           0,
           1,
           1,
           0,
           1,
           1,
           0,
           0,
           1,
           0,
           0,
           0,
           1,
           0,
           0,
           0,
           0,
           0,
           0,
           1,
           0,
           0,
           1,
           0,
           1,
           1,
           1
          ],
          "coloraxis": "coloraxis",
          "symbol": "circle"
         },
         "mode": "markers",
         "name": "",
         "orientation": "v",
         "showlegend": false,
         "type": "scatter",
         "x": [
          1.8760923611677165,
          1.801577113694091,
          0.7187203194593313,
          -0.12942375696395572,
          0.13140722668838994,
          0.6635281534686016,
          0.6821073327546326,
          1.7501303271858193,
          1.8011590385202818,
          -1.1242989805316963,
          0.998464096459993,
          1.3943058546772678,
          -0.6595528062430961,
          -1.1179087049324972,
          0.6324938040239986,
          1.2250925827298795,
          -0.3406057142708002,
          -1.4515761898557251,
          1.2090232493885629,
          -1.6750745940782457,
          -1.6619900054522367,
          -2.1995461145902437,
          -2.0366163984057812,
          -1.6150044597551994,
          -1.6773061472270288,
          -1.6628610340764447,
          -1.737794356723881,
          -1.6750745940782457,
          0.3856241267309183,
          -1.6750745940782457,
          1.8013680761071846,
          -1.6746565189044396,
          -1.3112734762400633,
          1.8011590385202818,
          -1.6150044597551994,
          1.8013680761071846,
          0.9369687320740547,
          1.329108246063116,
          1.8162312644315748,
          -1.434063373208745,
          -1.3093725482334988,
          -1.6145863845813933,
          -1.4325805203759865,
          -1.677724222400835,
          -1.429512816879591,
          -1.1072287671491918,
          -1.369860757730351,
          -0.8647346934469324,
          -0.7904730222084279,
          1.6759285508159132,
          -1.6750745940782457,
          2.1319325505085014,
          -1.124298980531696,
          1.6403528853337206,
          0.30031680911008546,
          1.7561611301085287,
          1.7559520925216259,
          1.8160222268446717,
          1.8160222268446717,
          1.816440302018478,
          -1.8703524835086178,
          1.8013680761071846,
          -1.3694426825565447,
          -1.4299308920533973,
          -1.726103305412708,
          1.3334605644940132,
          1.4492688092688217,
          1.8162312644315748,
          -1.4515761898557251,
          -1.6150044597551994,
          -1.3884383520362835,
          -0.8134250256888838,
          -1.6746565189044396,
          0.14474246241251962,
          -1.1566280215035758,
          1.1696427654775192,
          1.1600553980279096,
          0.8511187533840832,
          0.6875865303969377,
          1.482882214534324,
          -0.5548236966225641,
          -0.318513441615784,
          1.7533024641990362,
          1.738648313461549,
          1.6907917391403036,
          1.0969175602084675,
          1.7535115017859395,
          1.738648313461549,
          0.2879309386887553,
          1.1613757126542206,
          -1.6628610340764447,
          -1.7229311683994906,
          -1.6721713895205301,
          -1.3921576564112703,
          0.08553205891491379,
          -0.48590845776149244,
          1.662746274427475,
          0.3345248289038423,
          -1.084368282154345,
          1.8135816361089854,
          0.9076541488671761,
          0.029315689307753436,
          0.3571717335250802,
          1.4924385802487006,
          0.061701899229562596,
          -1.3832544991498321,
          1.8011590385202818,
          0.1575134236072317,
          -1.7400259098726643,
          -1.7400259098726643,
          -1.4869826549785903,
          1.6905827015534005,
          -0.9949411793211805,
          1.6907917391403036,
          -1.7400259098726643,
          -2.3976097931571334,
          -1.737794356723881,
          0.7724853259706999,
          -1.192512931727587,
          1.738648313461549,
          2.2260723548499475,
          1.6905827015534005,
          1.4644346690082912,
          1.1690676221429355,
          -1.5645656059486157,
          1.6905827015534005,
          1.6759285508159132,
          -1.3140986923029723,
          -0.7636092938896192,
          -1.1511979297433201,
          -2.3518310063693075,
          -0.3837157111294136,
          1.7537205393728423,
          1.7533024641990362,
          1.7388573510484522,
          1.7535115017859395,
          1.4602782328773265,
          -0.9833992707283109,
          -0.6755358060578273,
          -1.4070949351492197,
          -0.06098252845117457,
          1.0921386834296272,
          0.8469949814047787,
          -0.7224348366421487,
          -0.44749154225795795,
          -0.4303921040329787,
          1.8011590385202818,
          -0.3159226355125359,
          1.7559520925216259,
          -1.1981148597878448,
          1.6401438477468175,
          0.9797068113617362,
          -0.6330158492852264,
          -0.4467381451901277,
          1.8013680761071846,
          1.8961930746745042,
          1.3336696020809162,
          -1.030583008411904,
          1.8162312644315748,
          -1.604991631095057,
          1.2500465180996092,
          1.1406503625504087,
          0.8529540396012996,
          1.5093389435918678,
          1.2745229702017535,
          -0.9244178690398337,
          0.13047302969725538,
          0.07040289537420928,
          0.62348140851497,
          -1.182113606730343,
          -1.1085291456945923,
          1.6905827015534005,
          -1.7131306875237,
          1.3872635114801664,
          -1.7400259098726643,
          -1.4242628923329543,
          -0.8853399769384669,
          -1.8432252026609472,
          -1.666928748389287,
          -1.6628610340764447,
          -0.8527748016286029,
          -1.5470527893016364,
          -1.7404439850464706,
          -0.8253836683387605,
          -1.5470527893016364,
          -1.959033447435756,
          -1.4843330266560002,
          -1.6773061472270288,
          0.5450737140316855,
          -1.677724222400835,
          1.676137588402816,
          2.1472138140066988,
          -0.7052668794584136,
          -1.5018458433029807,
          -0.6148764780735808,
          1.7388573510484522,
          -0.6990223421969952,
          0.8151965417316458,
          -1.8355025093185755,
          -0.8168828158774931,
          -1.2061719836586815,
          -1.6150044597551994,
          -1.4523018811478754,
          -1.6628610340764447,
          1.1562732296745337,
          -0.6750372523428153,
          1.4644346690082912,
          1.2228842275271323,
          -1.7980182566622918,
          -1.4150677037290065,
          -1.2312165560513655,
          1.8160222268446717,
          -1.561915977626027,
          -0.6478790376096168,
          1.6401438477468175,
          1.2208805143988848,
          0.4977771185558202,
          1.8162312644315748,
          -1.6799557755496182,
          -0.9117022604076783,
          -1.5014277681291746,
          0.019334439484314927,
          -1.7373762815500748,
          1.4678099886230302,
          1.223886437712953,
          1.67571951322901,
          -0.9956128307301122,
          -1.187436818351138,
          1.209811319231683,
          0.950142304766936,
          1.8011590385202818,
          1.532308350967048,
          -1.2150642639289608,
          1.8160222268446717,
          -0.6240890195495586,
          1.4644346690082912,
          -1.5018458433029807,
          -0.2931971486966907,
          -1.0322954445017551,
          0.6312984586957181,
          1.1525030078118021,
          -1.4272573087551916,
          0.014294038616192693,
          -0.5679673453869614,
          -1.3710409391480312,
          -1.7229311683994906,
          -0.37470877036395744,
          1.5008433443169757,
          -0.25795591658351286,
          -1.1703666049686334,
          1.8013680761071846,
          1.8013680761071846,
          -1.344375172503584,
          1.8011590385202818,
          -1.4177173320515961,
          -1.3671871744321453,
          1.179151231019188,
          1.4240858954571336,
          -1.561915977626027,
          -1.4325805203759865,
          -1.4177173320515961,
          -1.9894241691095107,
          -1.9517288292671902,
          -1.6773061472270288,
          -1.6773061472270288,
          -1.4177173320515961,
          1.4644346690082912,
          -0.8316975211355983,
          -1.6773061472270288,
          -1.4325805203759865,
          -1.6150044597551994,
          -0.8632829570578352,
          -1.6624429589026386,
          1.1052232720556359,
          0.18479079234624796,
          0.9062312647577616,
          1.4935046114367005,
          0.25532269746064773,
          1.738439275874646,
          1.7535115017859395,
          -0.9461650933094428,
          0.0649992052122087,
          0.985288295969463,
          1.738439275874646,
          -0.7861360980003236,
          -1.2764235020500208,
          0.46690878773947025,
          -0.9312589259820111,
          0.11166931638386911,
          0.35723109358252375,
          -0.32008200935313547,
          -1.1475865985149925,
          -0.5840463504352069,
          -0.8050404636671951,
          -0.09988643149306231,
          1.5150943012898703,
          1.2178128109024893,
          -1.617961704196133,
          -1.1939870753843023,
          -0.5690919502462948,
          0.5763656941531634,
          -0.6505246535079674,
          1.461482369270623,
          1.738648313461549,
          1.816440302018478,
          1.7535115017859395,
          1.738648313461549,
          -0.8658592983062657,
          1.7535115017859395,
          -0.8062119359088318,
          1.508367799761091,
          -0.6823418705113811,
          -1.6001412714308088,
          1.5256762755729736,
          0.8733515952557528,
          -0.16021484557205315,
          0.17180246160695925,
          -1.3725150828047459,
          -1.5014277681291746,
          -1.6773061472270288,
          -0.03212815329303249,
          -1.066129774215215,
          0.3215633107445198,
          0.7010151037831938,
          1.7412979417841383,
          1.7789040960020817,
          -0.5379422627415755,
          1.8011590385202818,
          -1.4299308920533973,
          -1.454533434296659,
          1.8162312644315748,
          -1.7400259098726643,
          -1.7373762815500748,
          -1.5018458433029807,
          -0.36496676261421723,
          1.6936504050497965,
          -0.22161155080279132,
          -1.677724222400835,
          -1.3671871744321453,
          1.5026998000406482,
          1.4043645346852451,
          -2.229653737926525,
          -0.510431321605999,
          0.3220989975913276,
          -1.5470527893016364,
          0.9274708720550291,
          1.7533024641990362,
          1.577633122688085,
          -1.3662705455433273,
          0.6045056044543251,
          -0.607447464468857,
          0.3115053281082315,
          -0.34296628769670207,
          1.1110662836758782,
          -1.4498060184406505,
          -0.7693982611079081,
          1.738648313461549,
          1.738648313461549,
          -0.26330627310922944,
          1.8133725985220825,
          -0.8582202496092352,
          0.10982100644211774,
          -0.5593982079273349,
          0.9884364780070641,
          1.2690381117400702,
          1.1540198983533938,
          -1.193655515323212,
          -0.7642743582057828,
          -0.8699197292037154,
          1.5049866251609705,
          -1.6230761965828617,
          -1.9408990055020294,
          0.8732164001309486,
          0.5920065497816889,
          1.8011590385202818,
          1.4524301465933929,
          -1.8005141193695164,
          1.5456920109513954,
          1.738439275874646,
          1.738439275874646,
          -0.5319373217790578,
          -0.21830287722351369,
          1.269456186913876,
          -0.511442512303951,
          1.2748645738276825,
          1.0143070422656115,
          -0.19173489577032818,
          -0.23021376581023606,
          1.511231162422389,
          -1.7522394698744654,
          0.8065776960294145,
          -1.0926995102912305,
          1.565210525099381,
          0.27908722522555074,
          -0.03057905191423203,
          -1.7016818550273427,
          -0.19886773158482063,
          0.42181071884101573,
          -0.006643311329816848,
          1.1338796459415208,
          1.0223403429052413,
          1.7561611301085287,
          0.10248380479516195,
          1.2384956740500843,
          1.6401438477468175,
          1.738439275874646,
          0.40122302619672506,
          1.6785781791385028,
          -1.1041164573363549,
          1.738648313461549,
          1.6783691415515998,
          -1.2071581791230266,
          1.7533024641990362,
          -0.3828059932185816,
          -1.369860757730351,
          -0.34106215130124307,
          1.3439714343875064,
          -1.126199908538261,
          -1.0712836935283365,
          -1.369860757730351,
          0.4310318761991743,
          -0.31480944741537936,
          -1.2912866903744114,
          -0.9328930680844767,
          -1.7481562494540621,
          -1.2629208382502062,
          -1.6628610340764447,
          1.1307088572824027,
          -0.504264340792229,
          -2.0035382896064595,
          1.1792426370497138,
          -1.2418389529537415,
          1.6156493789059638,
          2.629883570344513,
          2.0613749664564236
         ],
         "xaxis": "x",
         "y": [
          -0.6126744143132732,
          1.2900470070107328,
          0.4814901662675216,
          -0.2675268725081126,
          -0.5755546387101487,
          -0.5195929561809199,
          -0.2667178786067482,
          -0.3031789394912808,
          -0.5109823290773134,
          1.4639817161520847,
          0.7598382593594147,
          1.4837376051512754,
          1.3798021406005323,
          1.2148923341951583,
          1.8219877510906846,
          1.3541204877456459,
          -0.3164050974583676,
          -0.49886470786864656,
          0.5895432457527321,
          -0.666761737160516,
          -0.48428177803370975,
          -0.28667312028203723,
          -0.2728307878403479,
          -0.5526434923220117,
          1.3382894693103635,
          -0.6785501968521482,
          -0.5768581116161896,
          -0.666761737160516,
          -0.7793218551708535,
          -0.666761737160516,
          0.3895323389667113,
          1.1342675989275333,
          -0.894482289031763,
          -0.5109823290773132,
          -0.5526434923220117,
          0.3895323389667113,
          -0.3367773658762818,
          -0.452825766768039,
          0.17372200889224865,
          -0.9186969083259405,
          1.470302024797565,
          1.2483858437660376,
          -0.35494193058466156,
          -0.46273986677768536,
          1.2420655351205572,
          1.386873979644787,
          -0.4448455561289881,
          1.6986937862206417,
          -0.45848427117504753,
          0.5693395900553647,
          -0.666761737160516,
          -0.4107272729615389,
          1.4639817161520852,
          0.1318731178085126,
          1.364270163609125,
          0.05960376405374425,
          -0.8409109039902806,
          -0.7267926591517762,
          -0.7267926591517762,
          1.0742366769362737,
          1.0887522824597544,
          0.3895323389667113,
          1.3561837799590615,
          -0.5589638009674923,
          -0.4589583475744819,
          -0.6988440030089579,
          -0.7711133567637264,
          0.17372200889224865,
          -0.49886470786864656,
          -0.5526434923220117,
          1.2122610026750755,
          -0.9797559084128027,
          1.1342675989275333,
          -0.8607296920062849,
          -0.9887871158635182,
          0.09375120117700106,
          0.9593002877941763,
          -1.1333271667344353,
          -0.7835724859845982,
          0.3198024032047546,
          0.9341529478630491,
          -0.6722114835780718,
          -0.6368890336074494,
          0.4794359645110379,
          0.35352925998090196,
          -0.7518254227495459,
          0.2636256344365753,
          0.4794359645110379,
          -1.0140395681073981,
          1.3641512092666206,
          -0.6785501968521482,
          -0.7926684416906524,
          -0.6163269714716655,
          -0.6924133855748777,
          -0.09776991348733005,
          0.2728479773885283,
          -0.40429906013557637,
          -0.6477951603831386,
          -0.7168326549716302,
          0.3777438792750795,
          -0.3859775008537776,
          -0.4978428465784297,
          1.1956632770399345,
          1.1087747748213213,
          1.3926054916767423,
          -0.5207489543126074,
          -0.5109823290773132,
          3.15895542323632,
          1.4281930948546906,
          1.4281930948546906,
          -0.6367013057684119,
          -0.5469854080631227,
          1.324358077454412,
          0.35352925998090196,
          1.4281930948546906,
          -0.21727496976759206,
          -0.5768581116161896,
          -0.7085252505105321,
          -0.6947103933033341,
          0.4794359645110379,
          -0.3733294556003453,
          -0.5469854080631227,
          -0.5108605669721612,
          -0.4732790251881703,
          -0.33098735014962233,
          -0.5469854080631227,
          0.5693395900553647,
          -0.8008578304672759,
          -0.44477672062423323,
          2.4601872003969536,
          1.5435921070796694,
          -0.5790092609003453,
          1.1641403024806,
          -0.6368890336074494,
          1.3799506325550626,
          0.2636256344365753,
          -0.7009689985855939,
          -0.7429163543969511,
          -0.725022043748254,
          -0.5189166355458648,
          -0.7940555973117702,
          -0.9016621267367354,
          -1.0094600629297592,
          -0.8729581742024396,
          1.2317689341538756,
          -0.6172241075552302,
          -0.5109823290773132,
          -0.9368191149316436,
          -0.8409109039902806,
          -0.7627297724037003,
          -0.768641550235512,
          0.37313093574161854,
          -0.876915628706802,
          -0.9651687552220465,
          0.3895323389667113,
          0.33382025916024555,
          0.20167066503506667,
          1.7475187485170207,
          0.17372200889224865,
          1.2110914762231366,
          -0.5537403933041759,
          -0.5020516144147346,
          -0.7719315010673189,
          -0.6569951119252219,
          0.983309412980194,
          0.7781009245333391,
          -0.9726332494823577,
          -1.0867514943208618,
          1.1799969431266686,
          -0.8248124109023153,
          1.8461253650806446,
          -0.5469854080631227,
          -0.6005764646774504,
          -0.6859674064797928,
          1.4281930948546906,
          -0.7266049313127385,
          -0.8416830831392597,
          -0.6508140972139058,
          1.1920641299578802,
          -0.6785501968521482,
          2.0574153243211772,
          -0.7508195506069161,
          -0.3728362412333583,
          3.228081744412175,
          -0.7508195506069161,
          -0.5785447434591376,
          -0.8407231761512428,
          1.3382894693103635,
          1.5415923975155699,
          -0.46273986677768536,
          1.4698542580993896,
          1.1744917330520477,
          -0.6652698784355663,
          -0.4208909756939492,
          -0.6064862071435468,
          1.3799506325550626,
          0.9698959879897194,
          -0.3868095043045781,
          1.176238252116421,
          1.4527319959145408,
          -0.5608328810986357,
          -0.5526434923220117,
          -0.8488452104588317,
          -0.6785501968521482,
          -0.6329495026506495,
          -0.685085591736578,
          -0.5108605669721612,
          -0.7348470819947672,
          -0.3208855223009387,
          -0.7747741310419552,
          -0.4770677444621288,
          -0.7267926591517762,
          -0.5350092205324536,
          -0.6611052986323394,
          -0.768641550235512,
          0.7864624796349923,
          1.276108815742847,
          0.17372200889224865,
          1.5423113396931942,
          -0.618841968633558,
          1.3801383603940998,
          1.4332885071086006,
          1.2241712244718597,
          -0.36490193476480737,
          0.37373291567826933,
          -0.3311750779886603,
          -0.7311278947053196,
          -0.2471439943916377,
          -0.23109851826794026,
          -1.0649666486280651,
          -0.5109823290773132,
          -0.8530958495104032,
          1.3024196803698964,
          -0.7267926591517762,
          0.8682039027537609,
          -0.5108605669721612,
          -0.4208909756939492,
          -0.5108494290225127,
          1.285181894408829,
          -0.6646658326200832,
          -0.5339173771669485,
          -0.9326103470953389,
          -0.2838101771864493,
          -0.6000270172307733,
          -0.5325374140042393,
          -0.7926684416906524,
          -0.4044592521693874,
          0.7355560286006408,
          3.4806881251294293,
          -0.3242517308989359,
          0.3895323389667113,
          0.3895323389667113,
          -0.6088202610901913,
          -0.5109823290773132,
          -0.5707522606591243,
          -0.8184921022568346,
          0.6616411999145055,
          -0.13107553193649552,
          -0.5350092205324536,
          -0.35494193058466156,
          -0.5707522606591243,
          1.964127714100792,
          -0.5525217302168597,
          1.3382894693103635,
          1.3382894693103635,
          -0.5707522606591243,
          -0.5108605669721612,
          -0.6448361497940569,
          1.3382894693103635,
          -0.35494193058466156,
          -0.5526434923220117,
          -0.3450551889749277,
          1.1224791392359015,
          -0.7191821676099295,
          -0.6503379549356398,
          0.6927415184389599,
          0.3716380283180142,
          -0.7229809688125878,
          -0.4210787035329869,
          0.2636256344365753,
          -0.6688452749800746,
          1.252009806266189,
          0.4217876501388601,
          -0.4210787035329869,
          -0.5914004469890479,
          -0.8069963193750954,
          1.2987176043283282,
          -0.5683312282117751,
          -0.9916254782933965,
          0.9172017939876762,
          -0.5416515923146615,
          -0.6668654814389796,
          -0.9885123921401794,
          -1.204719208043133,
          0.8722601456803034,
          1.9602431961729292,
          -0.8105449860702271,
          1.1024272115586837,
          -0.7748651598814894,
          -1.048752072120893,
          -0.95328329416158,
          -0.34535171192262176,
          -0.7829018164553581,
          0.4794359645110379,
          1.0742366769362737,
          0.2636256344365753,
          0.4794359645110379,
          1.2499687313305223,
          0.2636256344365753,
          -0.8088108547552603,
          0.15582769824355153,
          -0.7111086049788556,
          -0.7684538223964748,
          -0.7926506754215297,
          -0.9791663490725246,
          1.7025795252887836,
          0.15522365242806868,
          -0.6126921805823942,
          1.3801383603940998,
          1.3382894693103635,
          -0.7949413530799604,
          -0.7866843528387394,
          1.4519667232072864,
          1.1576232291848074,
          0.27541409412820694,
          -0.31963926675252513,
          -0.6980875620685867,
          -0.5109823290773132,
          -0.5589638009674923,
          1.1562059960120485,
          0.17372200889224865,
          1.4281930948546906,
          1.2241712244718597,
          -0.4208909756939492,
          -0.5284886875207165,
          1.0500220576420958,
          -0.389228831960645,
          -0.46273986677768536,
          -0.8184921022568346,
          0.32346882858879755,
          -0.6249788118106655,
          -0.38608244982463313,
          -0.7432388710007497,
          -0.6269943180175069,
          -0.7508195506069161,
          -0.7646712860130936,
          -0.6368890336074494,
          0.22177674335283928,
          1.0224736858428904,
          -0.9494113746693768,
          -0.5149765424594318,
          -1.183116015392537,
          0.9947293989113936,
          -0.9628780775636162,
          -0.6827762466879077,
          -0.7375191913750868,
          0.4794359645110379,
          0.4794359645110379,
          0.6041026108449297,
          -0.5227707887689452,
          -0.7529574960625918,
          0.9491627472797463,
          -1.0569848198384333,
          0.25770223176770524,
          -0.5669440116065434,
          0.2246490894129159,
          1.2424620209490478,
          0.929361446986719,
          -0.6564785097222913,
          -0.41097687568430324,
          -0.42498145911771334,
          1.091797757148374,
          0.4616130111290298,
          -0.44090435318044363,
          -0.5109823290773132,
          0.4014425607634952,
          -0.48695448607186237,
          2.2381257446013407,
          -0.4210787035329869,
          -0.4210787035329869,
          -0.5569414068681667,
          0.6448858207811413,
          1.2340853244815062,
          -0.7441603604190249,
          -0.732807481269307,
          0.19080713881760863,
          1.620638638274503,
          1.1327374003388002,
          1.224188990740982,
          1.4399815545463222,
          1.8531105127075773,
          0.44562373000117067,
          -0.6669494649995537,
          1.6802468117722849,
          -0.11261985908618287,
          -0.22940043859480902,
          -0.6358732428142473,
          -0.3895506021040233,
          -0.24607970406369534,
          0.29216649580584714,
          1.9564881480216116,
          0.05960376405374425,
          -0.8482184780236898,
          0.425778942162825,
          -0.768641550235512,
          -0.4210787035329869,
          -0.7058538059603943,
          0.36531771967253357,
          -0.6328355277082732,
          0.4794359645110379,
          -0.5351969483714912,
          -0.7410472742658079,
          -0.6368890336074494,
          -0.5145813205738472,
          -0.4448455561289881,
          -0.42237738317064066,
          -0.6686360968425018,
          -0.9008025976772434,
          -0.534352695844824,
          -0.4448455561289881,
          -0.9807619520759384,
          -0.7400371345784204,
          -0.5911859893006329,
          -0.8210315202496462,
          -0.798459846152462,
          1.1765129758397601,
          -0.6785501968521481,
          -0.8831568725711323,
          -0.49926122323613065,
          -0.5793915013836728,
          -0.82905024023583,
          -0.5289033695753881,
          -0.4452933228271642,
          0.16730265586378598,
          0.2815199450852724
         ],
         "yaxis": "y"
        }
       ],
       "layout": {
        "coloraxis": {
         "colorbar": {
          "title": {
           "text": "color"
          }
         },
         "colorscale": [
          [
           0,
           "#0d0887"
          ],
          [
           0.1111111111111111,
           "#46039f"
          ],
          [
           0.2222222222222222,
           "#7201a8"
          ],
          [
           0.3333333333333333,
           "#9c179e"
          ],
          [
           0.4444444444444444,
           "#bd3786"
          ],
          [
           0.5555555555555556,
           "#d8576b"
          ],
          [
           0.6666666666666666,
           "#ed7953"
          ],
          [
           0.7777777777777778,
           "#fb9f3a"
          ],
          [
           0.8888888888888888,
           "#fdca26"
          ],
          [
           1,
           "#f0f921"
          ]
         ]
        },
        "legend": {
         "tracegroupgap": 0
        },
        "margin": {
         "t": 60
        },
        "template": {
         "data": {
          "bar": [
           {
            "error_x": {
             "color": "#2a3f5f"
            },
            "error_y": {
             "color": "#2a3f5f"
            },
            "marker": {
             "line": {
              "color": "#E5ECF6",
              "width": 0.5
             },
             "pattern": {
              "fillmode": "overlay",
              "size": 10,
              "solidity": 0.2
             }
            },
            "type": "bar"
           }
          ],
          "barpolar": [
           {
            "marker": {
             "line": {
              "color": "#E5ECF6",
              "width": 0.5
             },
             "pattern": {
              "fillmode": "overlay",
              "size": 10,
              "solidity": 0.2
             }
            },
            "type": "barpolar"
           }
          ],
          "carpet": [
           {
            "aaxis": {
             "endlinecolor": "#2a3f5f",
             "gridcolor": "white",
             "linecolor": "white",
             "minorgridcolor": "white",
             "startlinecolor": "#2a3f5f"
            },
            "baxis": {
             "endlinecolor": "#2a3f5f",
             "gridcolor": "white",
             "linecolor": "white",
             "minorgridcolor": "white",
             "startlinecolor": "#2a3f5f"
            },
            "type": "carpet"
           }
          ],
          "choropleth": [
           {
            "colorbar": {
             "outlinewidth": 0,
             "ticks": ""
            },
            "type": "choropleth"
           }
          ],
          "contour": [
           {
            "colorbar": {
             "outlinewidth": 0,
             "ticks": ""
            },
            "colorscale": [
             [
              0,
              "#0d0887"
             ],
             [
              0.1111111111111111,
              "#46039f"
             ],
             [
              0.2222222222222222,
              "#7201a8"
             ],
             [
              0.3333333333333333,
              "#9c179e"
             ],
             [
              0.4444444444444444,
              "#bd3786"
             ],
             [
              0.5555555555555556,
              "#d8576b"
             ],
             [
              0.6666666666666666,
              "#ed7953"
             ],
             [
              0.7777777777777778,
              "#fb9f3a"
             ],
             [
              0.8888888888888888,
              "#fdca26"
             ],
             [
              1,
              "#f0f921"
             ]
            ],
            "type": "contour"
           }
          ],
          "contourcarpet": [
           {
            "colorbar": {
             "outlinewidth": 0,
             "ticks": ""
            },
            "type": "contourcarpet"
           }
          ],
          "heatmap": [
           {
            "colorbar": {
             "outlinewidth": 0,
             "ticks": ""
            },
            "colorscale": [
             [
              0,
              "#0d0887"
             ],
             [
              0.1111111111111111,
              "#46039f"
             ],
             [
              0.2222222222222222,
              "#7201a8"
             ],
             [
              0.3333333333333333,
              "#9c179e"
             ],
             [
              0.4444444444444444,
              "#bd3786"
             ],
             [
              0.5555555555555556,
              "#d8576b"
             ],
             [
              0.6666666666666666,
              "#ed7953"
             ],
             [
              0.7777777777777778,
              "#fb9f3a"
             ],
             [
              0.8888888888888888,
              "#fdca26"
             ],
             [
              1,
              "#f0f921"
             ]
            ],
            "type": "heatmap"
           }
          ],
          "heatmapgl": [
           {
            "colorbar": {
             "outlinewidth": 0,
             "ticks": ""
            },
            "colorscale": [
             [
              0,
              "#0d0887"
             ],
             [
              0.1111111111111111,
              "#46039f"
             ],
             [
              0.2222222222222222,
              "#7201a8"
             ],
             [
              0.3333333333333333,
              "#9c179e"
             ],
             [
              0.4444444444444444,
              "#bd3786"
             ],
             [
              0.5555555555555556,
              "#d8576b"
             ],
             [
              0.6666666666666666,
              "#ed7953"
             ],
             [
              0.7777777777777778,
              "#fb9f3a"
             ],
             [
              0.8888888888888888,
              "#fdca26"
             ],
             [
              1,
              "#f0f921"
             ]
            ],
            "type": "heatmapgl"
           }
          ],
          "histogram": [
           {
            "marker": {
             "pattern": {
              "fillmode": "overlay",
              "size": 10,
              "solidity": 0.2
             }
            },
            "type": "histogram"
           }
          ],
          "histogram2d": [
           {
            "colorbar": {
             "outlinewidth": 0,
             "ticks": ""
            },
            "colorscale": [
             [
              0,
              "#0d0887"
             ],
             [
              0.1111111111111111,
              "#46039f"
             ],
             [
              0.2222222222222222,
              "#7201a8"
             ],
             [
              0.3333333333333333,
              "#9c179e"
             ],
             [
              0.4444444444444444,
              "#bd3786"
             ],
             [
              0.5555555555555556,
              "#d8576b"
             ],
             [
              0.6666666666666666,
              "#ed7953"
             ],
             [
              0.7777777777777778,
              "#fb9f3a"
             ],
             [
              0.8888888888888888,
              "#fdca26"
             ],
             [
              1,
              "#f0f921"
             ]
            ],
            "type": "histogram2d"
           }
          ],
          "histogram2dcontour": [
           {
            "colorbar": {
             "outlinewidth": 0,
             "ticks": ""
            },
            "colorscale": [
             [
              0,
              "#0d0887"
             ],
             [
              0.1111111111111111,
              "#46039f"
             ],
             [
              0.2222222222222222,
              "#7201a8"
             ],
             [
              0.3333333333333333,
              "#9c179e"
             ],
             [
              0.4444444444444444,
              "#bd3786"
             ],
             [
              0.5555555555555556,
              "#d8576b"
             ],
             [
              0.6666666666666666,
              "#ed7953"
             ],
             [
              0.7777777777777778,
              "#fb9f3a"
             ],
             [
              0.8888888888888888,
              "#fdca26"
             ],
             [
              1,
              "#f0f921"
             ]
            ],
            "type": "histogram2dcontour"
           }
          ],
          "mesh3d": [
           {
            "colorbar": {
             "outlinewidth": 0,
             "ticks": ""
            },
            "type": "mesh3d"
           }
          ],
          "parcoords": [
           {
            "line": {
             "colorbar": {
              "outlinewidth": 0,
              "ticks": ""
             }
            },
            "type": "parcoords"
           }
          ],
          "pie": [
           {
            "automargin": true,
            "type": "pie"
           }
          ],
          "scatter": [
           {
            "marker": {
             "colorbar": {
              "outlinewidth": 0,
              "ticks": ""
             }
            },
            "type": "scatter"
           }
          ],
          "scatter3d": [
           {
            "line": {
             "colorbar": {
              "outlinewidth": 0,
              "ticks": ""
             }
            },
            "marker": {
             "colorbar": {
              "outlinewidth": 0,
              "ticks": ""
             }
            },
            "type": "scatter3d"
           }
          ],
          "scattercarpet": [
           {
            "marker": {
             "colorbar": {
              "outlinewidth": 0,
              "ticks": ""
             }
            },
            "type": "scattercarpet"
           }
          ],
          "scattergeo": [
           {
            "marker": {
             "colorbar": {
              "outlinewidth": 0,
              "ticks": ""
             }
            },
            "type": "scattergeo"
           }
          ],
          "scattergl": [
           {
            "marker": {
             "colorbar": {
              "outlinewidth": 0,
              "ticks": ""
             }
            },
            "type": "scattergl"
           }
          ],
          "scattermapbox": [
           {
            "marker": {
             "colorbar": {
              "outlinewidth": 0,
              "ticks": ""
             }
            },
            "type": "scattermapbox"
           }
          ],
          "scatterpolar": [
           {
            "marker": {
             "colorbar": {
              "outlinewidth": 0,
              "ticks": ""
             }
            },
            "type": "scatterpolar"
           }
          ],
          "scatterpolargl": [
           {
            "marker": {
             "colorbar": {
              "outlinewidth": 0,
              "ticks": ""
             }
            },
            "type": "scatterpolargl"
           }
          ],
          "scatterternary": [
           {
            "marker": {
             "colorbar": {
              "outlinewidth": 0,
              "ticks": ""
             }
            },
            "type": "scatterternary"
           }
          ],
          "surface": [
           {
            "colorbar": {
             "outlinewidth": 0,
             "ticks": ""
            },
            "colorscale": [
             [
              0,
              "#0d0887"
             ],
             [
              0.1111111111111111,
              "#46039f"
             ],
             [
              0.2222222222222222,
              "#7201a8"
             ],
             [
              0.3333333333333333,
              "#9c179e"
             ],
             [
              0.4444444444444444,
              "#bd3786"
             ],
             [
              0.5555555555555556,
              "#d8576b"
             ],
             [
              0.6666666666666666,
              "#ed7953"
             ],
             [
              0.7777777777777778,
              "#fb9f3a"
             ],
             [
              0.8888888888888888,
              "#fdca26"
             ],
             [
              1,
              "#f0f921"
             ]
            ],
            "type": "surface"
           }
          ],
          "table": [
           {
            "cells": {
             "fill": {
              "color": "#EBF0F8"
             },
             "line": {
              "color": "white"
             }
            },
            "header": {
             "fill": {
              "color": "#C8D4E3"
             },
             "line": {
              "color": "white"
             }
            },
            "type": "table"
           }
          ]
         },
         "layout": {
          "annotationdefaults": {
           "arrowcolor": "#2a3f5f",
           "arrowhead": 0,
           "arrowwidth": 1
          },
          "autotypenumbers": "strict",
          "coloraxis": {
           "colorbar": {
            "outlinewidth": 0,
            "ticks": ""
           }
          },
          "colorscale": {
           "diverging": [
            [
             0,
             "#8e0152"
            ],
            [
             0.1,
             "#c51b7d"
            ],
            [
             0.2,
             "#de77ae"
            ],
            [
             0.3,
             "#f1b6da"
            ],
            [
             0.4,
             "#fde0ef"
            ],
            [
             0.5,
             "#f7f7f7"
            ],
            [
             0.6,
             "#e6f5d0"
            ],
            [
             0.7,
             "#b8e186"
            ],
            [
             0.8,
             "#7fbc41"
            ],
            [
             0.9,
             "#4d9221"
            ],
            [
             1,
             "#276419"
            ]
           ],
           "sequential": [
            [
             0,
             "#0d0887"
            ],
            [
             0.1111111111111111,
             "#46039f"
            ],
            [
             0.2222222222222222,
             "#7201a8"
            ],
            [
             0.3333333333333333,
             "#9c179e"
            ],
            [
             0.4444444444444444,
             "#bd3786"
            ],
            [
             0.5555555555555556,
             "#d8576b"
            ],
            [
             0.6666666666666666,
             "#ed7953"
            ],
            [
             0.7777777777777778,
             "#fb9f3a"
            ],
            [
             0.8888888888888888,
             "#fdca26"
            ],
            [
             1,
             "#f0f921"
            ]
           ],
           "sequentialminus": [
            [
             0,
             "#0d0887"
            ],
            [
             0.1111111111111111,
             "#46039f"
            ],
            [
             0.2222222222222222,
             "#7201a8"
            ],
            [
             0.3333333333333333,
             "#9c179e"
            ],
            [
             0.4444444444444444,
             "#bd3786"
            ],
            [
             0.5555555555555556,
             "#d8576b"
            ],
            [
             0.6666666666666666,
             "#ed7953"
            ],
            [
             0.7777777777777778,
             "#fb9f3a"
            ],
            [
             0.8888888888888888,
             "#fdca26"
            ],
            [
             1,
             "#f0f921"
            ]
           ]
          },
          "colorway": [
           "#636efa",
           "#EF553B",
           "#00cc96",
           "#ab63fa",
           "#FFA15A",
           "#19d3f3",
           "#FF6692",
           "#B6E880",
           "#FF97FF",
           "#FECB52"
          ],
          "font": {
           "color": "#2a3f5f"
          },
          "geo": {
           "bgcolor": "white",
           "lakecolor": "white",
           "landcolor": "#E5ECF6",
           "showlakes": true,
           "showland": true,
           "subunitcolor": "white"
          },
          "hoverlabel": {
           "align": "left"
          },
          "hovermode": "closest",
          "mapbox": {
           "style": "light"
          },
          "paper_bgcolor": "white",
          "plot_bgcolor": "#E5ECF6",
          "polar": {
           "angularaxis": {
            "gridcolor": "white",
            "linecolor": "white",
            "ticks": ""
           },
           "bgcolor": "#E5ECF6",
           "radialaxis": {
            "gridcolor": "white",
            "linecolor": "white",
            "ticks": ""
           }
          },
          "scene": {
           "xaxis": {
            "backgroundcolor": "#E5ECF6",
            "gridcolor": "white",
            "gridwidth": 2,
            "linecolor": "white",
            "showbackground": true,
            "ticks": "",
            "zerolinecolor": "white"
           },
           "yaxis": {
            "backgroundcolor": "#E5ECF6",
            "gridcolor": "white",
            "gridwidth": 2,
            "linecolor": "white",
            "showbackground": true,
            "ticks": "",
            "zerolinecolor": "white"
           },
           "zaxis": {
            "backgroundcolor": "#E5ECF6",
            "gridcolor": "white",
            "gridwidth": 2,
            "linecolor": "white",
            "showbackground": true,
            "ticks": "",
            "zerolinecolor": "white"
           }
          },
          "shapedefaults": {
           "line": {
            "color": "#2a3f5f"
           }
          },
          "ternary": {
           "aaxis": {
            "gridcolor": "white",
            "linecolor": "white",
            "ticks": ""
           },
           "baxis": {
            "gridcolor": "white",
            "linecolor": "white",
            "ticks": ""
           },
           "bgcolor": "#E5ECF6",
           "caxis": {
            "gridcolor": "white",
            "linecolor": "white",
            "ticks": ""
           }
          },
          "title": {
           "x": 0.05
          },
          "xaxis": {
           "automargin": true,
           "gridcolor": "white",
           "linecolor": "white",
           "ticks": "",
           "title": {
            "standoff": 15
           },
           "zerolinecolor": "white",
           "zerolinewidth": 2
          },
          "yaxis": {
           "automargin": true,
           "gridcolor": "white",
           "linecolor": "white",
           "ticks": "",
           "title": {
            "standoff": 15
           },
           "zerolinecolor": "white",
           "zerolinewidth": 2
          }
         }
        },
        "xaxis": {
         "anchor": "y",
         "domain": [
          0,
          1
         ],
         "title": {
          "text": "0"
         }
        },
        "yaxis": {
         "anchor": "x",
         "domain": [
          0,
          1
         ],
         "title": {
          "text": "1"
         }
        }
       }
      }
     },
     "metadata": {},
     "output_type": "display_data"
    }
   ],
   "source": [
    "import plotly.express as px\n",
    "from sklearn.decomposition import PCA\n",
    "\n",
    "pca = PCA(n_components=2)\n",
    "principalComponents = pca.fit_transform(X_train)\n",
    "\n",
    "# Percentage of variance explained by each of the selected components.\n",
    "print(f'Explained variance ratio = {pca.explained_variance_ratio_}')\n",
    "\n",
    "fig = px.scatter(principalComponents, x=0, y=1, color=df['Class'])\n",
    "fig.show()\n"
   ]
  },
  {
   "cell_type": "markdown",
   "metadata": {},
   "source": [
    "#### **Evaluation of the Decision Tree and K-Nearest Neighbor with random samples**"
   ]
  },
  {
   "cell_type": "markdown",
   "metadata": {},
   "source": [
    "The following function provides a stratified sample according to a percentage of the population:"
   ]
  },
  {
   "cell_type": "code",
   "execution_count": 6,
   "metadata": {},
   "outputs": [],
   "source": [
    "from sklearn.utils.random import sample_without_replacement\n",
    "\n",
    "\n",
    "def stratified_sample_without_replacement(df, percentage):\n",
    "    \"\"\"\n",
    "    Get a % samples of a population.\n",
    "\n",
    "    Parameters\n",
    "    ----------\n",
    "    data: nparray\n",
    "        Original standardized data.\n",
    "    percentage:\n",
    "        Percentage of desired random samples.\n",
    "\n",
    "    Returns\n",
    "    -------\n",
    "    n_population * percentage random X_train, y_train and samples.\n",
    "    \"\"\"\n",
    "\n",
    "    n_population = len(df)\n",
    "\n",
    "    samples = sample_without_replacement(\n",
    "        n_population=n_population, n_samples=n_population * percentage)\n",
    "\n",
    "    X_train = df.iloc[samples, :-1].values\n",
    "    y_train = df.iloc[samples, -1].values\n",
    "\n",
    "    print(f'{percentage * 100}% of samples without replacement = {samples}\\n')\n",
    "    print(df.iloc[samples, :])\n",
    "\n",
    "\t# Decision Tree.\n",
    "    clf.fit(X_train, y_train)\n",
    "\n",
    "    # Evaluate training score by cross-validation.\n",
    "    print(f'\\nDecision Tree [{percentage * 100}%]:')\n",
    "    print(\n",
    "        f'\\tTrain score = {cross_val_score(clf, X_train, y_train, cv=3)}')\n",
    "\n",
    "    # Plot the tree.\n",
    "    tree.plot_tree(clf)\n",
    "    plt.show()\n",
    "\n",
    "\t# K-Nearest Neighbor.\n",
    "    neigh = KNeighborsClassifier(n_neighbors=3)\n",
    "    neigh.fit(X_train, y_train)\n",
    "\n",
    "    # Evaluate training score by cross-validation.\n",
    "    print(f'K-Nearest Neighbor [{percentage * 100}%]:')\n",
    "    print(\n",
    "        f'\\tTrain score = {cross_val_score(neigh, X_train, y_train, cv=3)}')\n"
   ]
  },
  {
   "cell_type": "markdown",
   "metadata": {},
   "source": [
    "**Decision Tree and K-Nearest Neighbor with stratified random sample \\[10%\\]**"
   ]
  },
  {
   "cell_type": "code",
   "execution_count": 7,
   "metadata": {},
   "outputs": [
    {
     "name": "stdout",
     "output_type": "stream",
     "text": [
      "10.0% of samples without replacement = [402  39 206 433 261 434 283 382 411 312 307 211 412 404   7   4 234 105\n",
      " 277 387   6 208 303 346  85 338 169  18  92 251  38 175 222 341  83 272\n",
      " 331 248 246 166  25 315  31]\n",
      "\n",
      "     handicapped-infants  water-project-cost-sharing  \\\n",
      "402                  0.0                         1.0   \n",
      "39                   2.0                         1.0   \n",
      "206                  1.0                         1.0   \n",
      "433                  1.0                         1.0   \n",
      "261                  2.0                         1.0   \n",
      "434                  1.0                         2.0   \n",
      "283                  1.0                         1.0   \n",
      "382                  2.0                         2.0   \n",
      "411                  2.0                         1.0   \n",
      "312                  2.0                         2.0   \n",
      "307                  2.0                         1.0   \n",
      "211                  1.0                         2.0   \n",
      "412                  1.0                         1.0   \n",
      "404                  2.0                         2.0   \n",
      "7                    1.0                         2.0   \n",
      "4                    2.0                         2.0   \n",
      "234                  1.0                         1.0   \n",
      "105                  2.0                         2.0   \n",
      "277                  1.0                         1.0   \n",
      "387                  2.0                         2.0   \n",
      "6                    1.0                         2.0   \n",
      "208                  1.0                         1.0   \n",
      "303                  1.0                         1.0   \n",
      "346                  1.0                         1.0   \n",
      "85                   1.0                         1.0   \n",
      "338                  2.0                         1.0   \n",
      "169                  2.0                         1.0   \n",
      "18                   1.0                         2.0   \n",
      "92                   2.0                         2.0   \n",
      "251                  1.0                         2.0   \n",
      "38                   1.0                         2.0   \n",
      "175                  1.0                         2.0   \n",
      "222                  2.0                         1.0   \n",
      "341                  1.0                         0.0   \n",
      "83                   1.0                         1.0   \n",
      "272                  2.0                         1.0   \n",
      "331                  2.0                         0.0   \n",
      "248                  0.0                         0.0   \n",
      "246                  1.0                         1.0   \n",
      "166                  2.0                         1.0   \n",
      "25                   2.0                         1.0   \n",
      "315                  1.0                         2.0   \n",
      "31                   2.0                         2.0   \n",
      "\n",
      "     adoption-of-the-budget-resolution  physician-fee-freeze  el-salvador-aid  \\\n",
      "402                                2.0                   2.0              1.0   \n",
      "39                                 2.0                   1.0              1.0   \n",
      "206                                1.0                   2.0              2.0   \n",
      "433                                1.0                   2.0              2.0   \n",
      "261                                2.0                   1.0              1.0   \n",
      "434                                1.0                   2.0              2.0   \n",
      "283                                1.0                   2.0              2.0   \n",
      "382                                1.0                   2.0              2.0   \n",
      "411                                2.0                   1.0              1.0   \n",
      "312                                2.0                   1.0              1.0   \n",
      "307                                2.0                   1.0              1.0   \n",
      "211                                1.0                   2.0              2.0   \n",
      "412                                1.0                   2.0              2.0   \n",
      "404                                1.0                   2.0              2.0   \n",
      "7                                  1.0                   2.0              2.0   \n",
      "4                                  2.0                   1.0              2.0   \n",
      "234                                2.0                   1.0              1.0   \n",
      "105                                2.0                   1.0              1.0   \n",
      "277                                2.0                   2.0              2.0   \n",
      "387                                2.0                   1.0              2.0   \n",
      "6                                  1.0                   2.0              2.0   \n",
      "208                                2.0                   1.0              1.0   \n",
      "303                                1.0                   2.0              2.0   \n",
      "346                                1.0                   2.0              2.0   \n",
      "85                                 2.0                   1.0              2.0   \n",
      "338                                2.0                   1.0              1.0   \n",
      "169                                2.0                   1.0              1.0   \n",
      "18                                 1.0                   2.0              2.0   \n",
      "92                                 2.0                   1.0              1.0   \n",
      "251                                1.0                   2.0              2.0   \n",
      "38                                 1.0                   2.0              2.0   \n",
      "175                                2.0                   1.0              1.0   \n",
      "222                                2.0                   1.0              1.0   \n",
      "341                                2.0                   0.0              1.0   \n",
      "83                                 1.0                   2.0              2.0   \n",
      "272                                2.0                   1.0              1.0   \n",
      "331                                2.0                   1.0              1.0   \n",
      "248                                0.0                   0.0              0.0   \n",
      "246                                2.0                   1.0              2.0   \n",
      "166                                2.0                   2.0              2.0   \n",
      "25                                 2.0                   1.0              1.0   \n",
      "315                                2.0                   2.0              2.0   \n",
      "31                                 2.0                   1.0              1.0   \n",
      "\n",
      "     religious-groups-in-schools  anti-satellite-test-ban  \\\n",
      "402                          2.0                      2.0   \n",
      "39                           1.0                      2.0   \n",
      "206                          2.0                      1.0   \n",
      "433                          2.0                      0.0   \n",
      "261                          0.0                      2.0   \n",
      "434                          2.0                      1.0   \n",
      "283                          2.0                      1.0   \n",
      "382                          2.0                      1.0   \n",
      "411                          2.0                      2.0   \n",
      "312                          1.0                      2.0   \n",
      "307                          2.0                      2.0   \n",
      "211                          2.0                      1.0   \n",
      "412                          2.0                      1.0   \n",
      "404                          2.0                      1.0   \n",
      "7                            2.0                      1.0   \n",
      "4                            2.0                      1.0   \n",
      "234                          2.0                      2.0   \n",
      "105                          1.0                      1.0   \n",
      "277                          2.0                      2.0   \n",
      "387                          2.0                      1.0   \n",
      "6                            2.0                      1.0   \n",
      "208                          1.0                      2.0   \n",
      "303                          2.0                      1.0   \n",
      "346                          2.0                      1.0   \n",
      "85                           2.0                      1.0   \n",
      "338                          1.0                      2.0   \n",
      "169                          1.0                      2.0   \n",
      "18                           2.0                      1.0   \n",
      "92                           1.0                      2.0   \n",
      "251                          2.0                      1.0   \n",
      "38                           2.0                      1.0   \n",
      "175                          1.0                      2.0   \n",
      "222                          1.0                      2.0   \n",
      "341                          2.0                      2.0   \n",
      "83                           2.0                      1.0   \n",
      "272                          1.0                      2.0   \n",
      "331                          1.0                      2.0   \n",
      "248                          0.0                      0.0   \n",
      "246                          1.0                      2.0   \n",
      "166                          2.0                      2.0   \n",
      "25                           1.0                      2.0   \n",
      "315                          2.0                      2.0   \n",
      "31                           1.0                      2.0   \n",
      "\n",
      "     aid-to-nicaraguan-contras  mx-missile  immigration  \\\n",
      "402                        2.0         2.0          2.0   \n",
      "39                         2.0         2.0          2.0   \n",
      "206                        1.0         1.0          2.0   \n",
      "433                        0.0         0.0          0.0   \n",
      "261                        2.0         2.0          1.0   \n",
      "434                        1.0         1.0          2.0   \n",
      "283                        1.0         1.0          1.0   \n",
      "382                        1.0         1.0          1.0   \n",
      "411                        2.0         2.0          2.0   \n",
      "312                        2.0         2.0          2.0   \n",
      "307                        2.0         2.0          1.0   \n",
      "211                        1.0         1.0          2.0   \n",
      "412                        1.0         1.0          2.0   \n",
      "404                        1.0         1.0          2.0   \n",
      "7                          1.0         1.0          1.0   \n",
      "4                          1.0         1.0          1.0   \n",
      "234                        2.0         2.0          2.0   \n",
      "105                        2.0         2.0          1.0   \n",
      "277                        2.0         1.0          2.0   \n",
      "387                        2.0         2.0          1.0   \n",
      "6                          1.0         1.0          1.0   \n",
      "208                        2.0         2.0          1.0   \n",
      "303                        1.0         1.0          1.0   \n",
      "346                        1.0         1.0          2.0   \n",
      "85                         1.0         1.0          2.0   \n",
      "338                        2.0         2.0          2.0   \n",
      "169                        2.0         2.0          2.0   \n",
      "18                         1.0         1.0          1.0   \n",
      "92                         2.0         1.0          2.0   \n",
      "251                        1.0         1.0          1.0   \n",
      "38                         1.0         1.0          2.0   \n",
      "175                        2.0         2.0          2.0   \n",
      "222                        2.0         2.0          1.0   \n",
      "341                        2.0         2.0          2.0   \n",
      "83                         1.0         1.0          1.0   \n",
      "272                        2.0         2.0          2.0   \n",
      "331                        2.0         2.0          1.0   \n",
      "248                        0.0         0.0          0.0   \n",
      "246                        2.0         2.0          1.0   \n",
      "166                        2.0         1.0          2.0   \n",
      "25                         2.0         2.0          2.0   \n",
      "315                        0.0         1.0          1.0   \n",
      "31                         2.0         2.0          1.0   \n",
      "\n",
      "     synfuels-corporation-cutback  education-spending  superfund-right-to-sue  \\\n",
      "402                           1.0                 2.0                     1.0   \n",
      "39                            2.0                 1.0                     2.0   \n",
      "206                           1.0                 2.0                     1.0   \n",
      "433                           1.0                 2.0                     2.0   \n",
      "261                           0.0                 0.0                     1.0   \n",
      "434                           1.0                 2.0                     2.0   \n",
      "283                           1.0                 2.0                     2.0   \n",
      "382                           2.0                 1.0                     2.0   \n",
      "411                           2.0                 1.0                     1.0   \n",
      "312                           1.0                 1.0                     1.0   \n",
      "307                           1.0                 1.0                     1.0   \n",
      "211                           1.0                 2.0                     2.0   \n",
      "412                           1.0                 2.0                     2.0   \n",
      "404                           1.0                 2.0                     2.0   \n",
      "7                             1.0                 1.0                     2.0   \n",
      "4                             2.0                 0.0                     2.0   \n",
      "234                           1.0                 2.0                     1.0   \n",
      "105                           2.0                 1.0                     1.0   \n",
      "277                           1.0                 1.0                     1.0   \n",
      "387                           2.0                 1.0                     1.0   \n",
      "6                             1.0                 1.0                     0.0   \n",
      "208                           1.0                 0.0                     1.0   \n",
      "303                           1.0                 2.0                     2.0   \n",
      "346                           1.0                 2.0                     2.0   \n",
      "85                            2.0                 2.0                     2.0   \n",
      "338                           1.0                 1.0                     1.0   \n",
      "169                           2.0                 1.0                     1.0   \n",
      "18                            1.0                 0.0                     2.0   \n",
      "92                            2.0                 1.0                     1.0   \n",
      "251                           1.0                 2.0                     2.0   \n",
      "38                            1.0                 2.0                     2.0   \n",
      "175                           1.0                 1.0                     1.0   \n",
      "222                           2.0                 1.0                     1.0   \n",
      "341                           2.0                 1.0                     0.0   \n",
      "83                            1.0                 2.0                     2.0   \n",
      "272                           1.0                 1.0                     1.0   \n",
      "331                           1.0                 1.0                     1.0   \n",
      "248                           0.0                 0.0                     0.0   \n",
      "246                           1.0                 1.0                     1.0   \n",
      "166                           1.0                 2.0                     1.0   \n",
      "25                            1.0                 1.0                     1.0   \n",
      "315                           1.0                 1.0                     0.0   \n",
      "31                            2.0                 1.0                     1.0   \n",
      "\n",
      "     crime  duty-free-exports  export-administration-act-south-africa  Class  \n",
      "402    2.0                1.0                                     2.0    1.0  \n",
      "39     1.0                2.0                                     2.0    0.0  \n",
      "206    2.0                1.0                                     2.0    1.0  \n",
      "433    2.0                1.0                                     2.0    1.0  \n",
      "261    0.0                0.0                                     0.0    0.0  \n",
      "434    2.0                0.0                                     1.0    1.0  \n",
      "283    2.0                1.0                                     2.0    1.0  \n",
      "382    2.0                1.0                                     0.0    0.0  \n",
      "411    1.0                1.0                                     2.0    0.0  \n",
      "312    1.0                2.0                                     2.0    0.0  \n",
      "307    2.0                1.0                                     0.0    0.0  \n",
      "211    2.0                1.0                                     2.0    1.0  \n",
      "412    2.0                1.0                                     2.0    1.0  \n",
      "404    2.0                1.0                                     2.0    1.0  \n",
      "7      2.0                0.0                                     2.0    1.0  \n",
      "4      2.0                2.0                                     2.0    0.0  \n",
      "234    2.0                2.0                                     0.0    0.0  \n",
      "105    1.0                2.0                                     2.0    0.0  \n",
      "277    2.0                1.0                                     2.0    1.0  \n",
      "387    2.0                1.0                                     0.0    0.0  \n",
      "6      2.0                2.0                                     2.0    0.0  \n",
      "208    1.0                2.0                                     2.0    0.0  \n",
      "303    2.0                1.0                                     1.0    1.0  \n",
      "346    2.0                1.0                                     2.0    1.0  \n",
      "85     2.0                1.0                                     2.0    0.0  \n",
      "338    2.0                2.0                                     2.0    0.0  \n",
      "169    2.0                1.0                                     2.0    0.0  \n",
      "18     2.0                1.0                                     1.0    1.0  \n",
      "92     0.0                2.0                                     2.0    0.0  \n",
      "251    2.0                1.0                                     1.0    1.0  \n",
      "38     2.0                1.0                                     1.0    1.0  \n",
      "175    1.0                2.0                                     2.0    0.0  \n",
      "222    1.0                2.0                                     0.0    0.0  \n",
      "341    0.0                2.0                                     2.0    0.0  \n",
      "83     2.0                1.0                                     1.0    1.0  \n",
      "272    1.0                2.0                                     0.0    0.0  \n",
      "331    1.0                2.0                                     0.0    0.0  \n",
      "248    0.0                0.0                                     0.0    1.0  \n",
      "246    2.0                0.0                                     2.0    0.0  \n",
      "166    2.0                2.0                                     2.0    1.0  \n",
      "25     1.0                2.0                                     2.0    0.0  \n",
      "315    0.0                2.0                                     0.0    1.0  \n",
      "31     1.0                2.0                                     0.0    0.0  \n",
      "\n",
      "Decision Tree [10.0%]:\n",
      "\tTrain score = [0.93333333 0.92857143 0.85714286]\n"
     ]
    },
    {
     "data": {
      "image/png": "[encoded data removed]",
      "text/plain": [
       "<Figure size 432x288 with 1 Axes>"
      ]
     },
     "metadata": {
      "needs_background": "light"
     },
     "output_type": "display_data"
    },
    {
     "name": "stdout",
     "output_type": "stream",
     "text": [
      "K-Nearest Neighbor [10.0%]:\n",
      "\tTrain score = [0.93333333 0.85714286 0.85714286]\n"
     ]
    }
   ],
   "source": [
    "stratified_sample_without_replacement(df, 0.1)"
   ]
  },
  {
   "cell_type": "markdown",
   "metadata": {},
   "source": [
    "**Decision Tree and K-Nearest Neighbor with stratified random sample \\[50%\\]**"
   ]
  },
  {
   "cell_type": "code",
   "execution_count": 8,
   "metadata": {},
   "outputs": [
    {
     "name": "stdout",
     "output_type": "stream",
     "text": [
      "50.0% of samples without replacement = [320 225  79 257 144 328 406 299 270 381 230 273 333 389 196 218 402 294\n",
      " 364 291 178 100 104 167 391 241 132 357 204 289 322 193 110 231 377 169\n",
      "  42  34 423  78 125 371 137 305 131  24 298 276 160 251 222 256  57  58\n",
      " 337 142 116 227 238 359 245 428 345 128 106 246 268 410 115  41 417 286\n",
      " 344 393 430 288 214 155  76 130 326 275  45 188 252 114 284 307  19 274\n",
      " 421 124 139 185  33 392 383 317  63 175 123 315 105 282  64   8 168 254\n",
      " 135 427  90 211 179 302 348 311 342  72 367 313 192 213 203 292 277 363\n",
      "  95 285  26 411 375  73 119 398 414 373  48  99 239  46 374 394 216 366\n",
      "   6  43 296 434  71 182 283 432 271   7  92 272 143  91 174  36   0 176\n",
      " 157 433 362 118  15 148  40  89  31 136 340  61 129 181  82 112 264 407\n",
      " 153   1 404 385  16 408 208 420  50 161 240 113  47 350  86 183 390 147\n",
      " 220 355  44  56 237  53  37 356 109 146  83 327 397  35 159 232  66 387\n",
      " 140]\n",
      "\n",
      "     handicapped-infants  water-project-cost-sharing  \\\n",
      "320                  1.0                         2.0   \n",
      "225                  1.0                         0.0   \n",
      "79                   1.0                         1.0   \n",
      "257                  1.0                         1.0   \n",
      "144                  1.0                         0.0   \n",
      "..                   ...                         ...   \n",
      "159                  1.0                         2.0   \n",
      "232                  1.0                         2.0   \n",
      "66                   1.0                         2.0   \n",
      "387                  2.0                         2.0   \n",
      "140                  1.0                         1.0   \n",
      "\n",
      "     adoption-of-the-budget-resolution  physician-fee-freeze  el-salvador-aid  \\\n",
      "320                                2.0                   1.0              1.0   \n",
      "225                                1.0                   2.0              2.0   \n",
      "79                                 1.0                   2.0              2.0   \n",
      "257                                1.0                   2.0              2.0   \n",
      "144                                1.0                   1.0              1.0   \n",
      "..                                 ...                   ...              ...   \n",
      "159                                2.0                   1.0              0.0   \n",
      "232                                2.0                   1.0              1.0   \n",
      "66                                 1.0                   2.0              2.0   \n",
      "387                                2.0                   1.0              2.0   \n",
      "140                                1.0                   2.0              1.0   \n",
      "\n",
      "     religious-groups-in-schools  anti-satellite-test-ban  \\\n",
      "320                          2.0                      1.0   \n",
      "225                          2.0                      1.0   \n",
      "79                           1.0                      1.0   \n",
      "257                          1.0                      1.0   \n",
      "144                          2.0                      2.0   \n",
      "..                           ...                      ...   \n",
      "159                          2.0                      2.0   \n",
      "232                          1.0                      2.0   \n",
      "66                           2.0                      2.0   \n",
      "387                          2.0                      1.0   \n",
      "140                          1.0                      2.0   \n",
      "\n",
      "     aid-to-nicaraguan-contras  mx-missile  immigration  \\\n",
      "320                        2.0         2.0          2.0   \n",
      "225                        1.0         1.0          1.0   \n",
      "79                         1.0         1.0          2.0   \n",
      "257                        1.0         1.0          1.0   \n",
      "144                        2.0         2.0          2.0   \n",
      "..                         ...         ...          ...   \n",
      "159                        2.0         2.0          2.0   \n",
      "232                        2.0         1.0          1.0   \n",
      "66                         1.0         1.0          1.0   \n",
      "387                        2.0         2.0          1.0   \n",
      "140                        2.0         2.0          2.0   \n",
      "\n",
      "     synfuels-corporation-cutback  education-spending  superfund-right-to-sue  \\\n",
      "320                           1.0                 1.0                     2.0   \n",
      "225                           1.0                 2.0                     2.0   \n",
      "79                            1.0                 2.0                     2.0   \n",
      "257                           1.0                 2.0                     1.0   \n",
      "144                           1.0                 1.0                     1.0   \n",
      "..                            ...                 ...                     ...   \n",
      "159                           2.0                 1.0                     1.0   \n",
      "232                           2.0                 1.0                     1.0   \n",
      "66                            2.0                 2.0                     2.0   \n",
      "387                           2.0                 1.0                     1.0   \n",
      "140                           1.0                 1.0                     2.0   \n",
      "\n",
      "     crime  duty-free-exports  export-administration-act-south-africa  Class  \n",
      "320    2.0                1.0                                     2.0    0.0  \n",
      "225    2.0                1.0                                     2.0    1.0  \n",
      "79     2.0                1.0                                     1.0    1.0  \n",
      "257    2.0                0.0                                     2.0    1.0  \n",
      "144    2.0                1.0                                     0.0    0.0  \n",
      "..     ...                ...                                     ...    ...  \n",
      "159    0.0                1.0                                     0.0    0.0  \n",
      "232    1.0                2.0                                     0.0    0.0  \n",
      "66     2.0                1.0                                     2.0    1.0  \n",
      "387    2.0                1.0                                     0.0    0.0  \n",
      "140    2.0                1.0                                     2.0    1.0  \n",
      "\n",
      "[217 rows x 17 columns]\n",
      "\n",
      "Decision Tree [50.0%]:\n",
      "\tTrain score = [0.94520548 0.91666667 0.95833333]\n"
     ]
    },
    {
     "data": {
      "image/png": "[encoded data removed]",
      "text/plain": [
       "<Figure size 432x288 with 1 Axes>"
      ]
     },
     "metadata": {
      "needs_background": "light"
     },
     "output_type": "display_data"
    },
    {
     "name": "stdout",
     "output_type": "stream",
     "text": [
      "K-Nearest Neighbor [50.0%]:\n",
      "\tTrain score = [0.94520548 0.93055556 0.875     ]\n"
     ]
    }
   ],
   "source": [
    "stratified_sample_without_replacement(df, 0.5)"
   ]
  },
  {
   "cell_type": "markdown",
   "metadata": {},
   "source": [
    "#### **Imputation of missing values**"
   ]
  },
  {
   "cell_type": "code",
   "execution_count": 10,
   "metadata": {},
   "outputs": [],
   "source": [
    "# Reload '.arff' file.\n",
    "data = arff.loadarff(\"datasets/vote.arff\")\n",
    "df = pd.DataFrame(data[0])\n",
    "\n",
    "# Categorical features to encode:\n",
    "features = df.columns.tolist()\n",
    "\n",
    "enc = preprocessing.OrdinalEncoder()\n",
    "\n",
    "# Swap unencoded columns values for encoded columns values.\n",
    "df[features] = enc.fit_transform(df[features])\n",
    "\n",
    "X_train = df.iloc[:, :-1].values\n",
    "y_train = df.iloc[:, -1].values"
   ]
  },
  {
   "cell_type": "code",
   "execution_count": 11,
   "metadata": {},
   "outputs": [
    {
     "name": "stdout",
     "output_type": "stream",
     "text": [
      "Impute missing values by mean strategy:\n",
      "\n",
      "[[1. 2. 1. ... 2. 1. 2.]\n",
      " [1. 2. 1. ... 2. 1. 0.]\n",
      " [0. 2. 2. ... 2. 1. 1.]\n",
      " ...\n",
      " [1. 0. 1. ... 2. 1. 2.]\n",
      " [1. 1. 1. ... 2. 1. 2.]\n",
      " [1. 2. 1. ... 2. 0. 1.]]\n"
     ]
    }
   ],
   "source": [
    "import numpy as np\n",
    "from sklearn.impute import SimpleImputer\n",
    "\n",
    "imp = SimpleImputer(missing_values=np.nan, strategy='mean')\n",
    "imp.fit_transform(X_train)\n",
    "\n",
    "print('Impute missing values by mean strategy:\\n')\n",
    "print(X_train)"
   ]
  },
  {
   "cell_type": "code",
   "execution_count": 12,
   "metadata": {},
   "outputs": [
    {
     "name": "stdout",
     "output_type": "stream",
     "text": [
      "Impute missing values by most_frequent strategy:\n",
      "\n",
      "[[1. 2. 1. ... 2. 1. 2.]\n",
      " [1. 2. 1. ... 2. 1. 0.]\n",
      " [0. 2. 2. ... 2. 1. 1.]\n",
      " ...\n",
      " [1. 0. 1. ... 2. 1. 2.]\n",
      " [1. 1. 1. ... 2. 1. 2.]\n",
      " [1. 2. 1. ... 2. 0. 1.]]\n"
     ]
    }
   ],
   "source": [
    "import numpy as np\n",
    "from sklearn.impute import SimpleImputer\n",
    "\n",
    "imp = SimpleImputer(missing_values=np.nan, strategy='most_frequent')\n",
    "imp.fit_transform(X_train)\n",
    "\n",
    "print('Impute missing values by most_frequent strategy:\\n')\n",
    "print(X_train)"
   ]
  }
 ],
 "metadata": {
  "interpreter": {
   "hash": "7605b1fe5367f0eda7cc8f931086dc277c698967ba1ddf7b7ab0fd936d325db5"
  },
  "kernelspec": {
   "display_name": "Python 3.9.9 64-bit (windows store)",
   "language": "python",
   "name": "python3"
  },
  "language_info": {
   "codemirror_mode": {
    "name": "ipython",
    "version": 3
   },
   "file_extension": ".py",
   "mimetype": "text/x-python",
   "name": "python",
   "nbconvert_exporter": "python",
   "pygments_lexer": "ipython3",
   "version": "3.9.9"
  },
  "orig_nbformat": 4
 },
 "nbformat": 4,
 "nbformat_minor": 2
}
