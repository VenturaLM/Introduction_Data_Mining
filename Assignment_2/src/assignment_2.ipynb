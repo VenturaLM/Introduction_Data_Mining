{
 "cells": [
  {
   "cell_type": "markdown",
   "metadata": {},
   "source": [
    "### **INTRODUCCIÓN A LA MINERÍA DE DATOS**\n",
    "#### **Práctica 2: Clasificación**\n",
    "- **Universidad de Córdoba**\n",
    "- **Escuela Politécnica Superior de Córdoba**\n",
    "- **Grado en Ingeniería Informática**\n",
    "- **Mención: Computación**\n",
    "- **Cuarto año - Primer cuatrimestre**\n",
    "- **Autor:** Ventura Lucena Martínez\n",
    "- **Email:** <i72lumav@uco.es>\n",
    "---"
   ]
  },
  {
   "cell_type": "markdown",
   "metadata": {},
   "source": [
    "#### **Data**\n",
    "We are using the dataset [`weather.arff`](https://storm.cis.fordham.edu/~gweiss/data-mining/weka-data/weather.arff):"
   ]
  },
  {
   "cell_type": "code",
   "execution_count": null,
   "metadata": {},
   "outputs": [],
   "source": [
    "from scipy.io import arff\n",
    "import pandas as pd\n",
    "\n",
    "# Load '.arff' file.\n",
    "data = arff.loadarff(\"../datasets/vote.arff\")\n",
    "df = pd.DataFrame(data[0])\n",
    "\n",
    "df\n"
   ]
  }
 ],
 "metadata": {
  "interpreter": {
   "hash": "7605b1fe5367f0eda7cc8f931086dc277c698967ba1ddf7b7ab0fd936d325db5"
  },
  "kernelspec": {
   "display_name": "Python 3.9.9 64-bit (windows store)",
   "language": "python",
   "name": "python3"
  },
  "language_info": {
   "codemirror_mode": {
    "name": "ipython",
    "version": 3
   },
   "file_extension": ".py",
   "mimetype": "text/x-python",
   "name": "python",
   "nbconvert_exporter": "python",
   "pygments_lexer": "ipython3",
   "version": "3.9.9"
  },
  "orig_nbformat": 4
 },
 "nbformat": 4,
 "nbformat_minor": 2
}
